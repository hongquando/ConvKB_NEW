{
 "cells": [
  {
   "cell_type": "code",
   "execution_count": 3,
   "metadata": {},
   "outputs": [],
   "source": [
    "from sklearn.decomposition import PCA\n",
    "from model.TransE import *\n",
    "from model.ConvKB import ConvKB\n",
    "from model.utils import *\n",
    "from model.CustomTripletMarginLoss import CustomTripletMarginLoss\n",
    "from argparse import Namespace\n",
    "import torch\n",
    "import torch.nn as nn\n",
    "import sys\n",
    "from torch.autograd import Variable\n",
    "import torch.optim as optim\n",
    "from numpy import linalg as LA\n",
    "import numpy as np\n",
    "from math import log10,floor\n",
    "import json\n",
    "import pickle,os\n",
    "from sklearn.neighbors import NearestNeighbors\n",
    "import matplotlib.pyplot as plt"
   ]
  },
  {
   "cell_type": "code",
   "execution_count": 4,
   "metadata": {},
   "outputs": [
    {
     "data": {
      "image/png": "[encoded data removed]",
      "text/plain": [
       "<Figure size 432x288 with 1 Axes>"
      ]
     },
     "metadata": {},
     "output_type": "display_data"
    },
    {
     "data": {
      "image/png": "[encoded data removed]",
      "text/plain": [
       "<Figure size 432x288 with 1 Axes>"
      ]
     },
     "metadata": {},
     "output_type": "display_data"
    }
   ],
   "source": [
    "#visualize loss function\n",
    "trans_e_loss =[]\n",
    "with open(\"./data/GENE/loss_transe.txt\",\"r\") as f:\n",
    "    for loss in f.readlines():\n",
    "        trans_e_loss.append(float(loss[0:len(loss)-1]))\n",
    "    f.close()\n",
    "conv_kb_loss =[]\n",
    "with open(\"./data/GENE/loss_convkb.txt\",\"r\") as f:\n",
    "    for loss in f.readlines():\n",
    "        conv_kb_loss.append(float(loss[0:len(loss)-1]))\n",
    "    f.close()\n",
    "    \n",
    "plt.plot(range(len(trans_e_loss)),trans_e_loss)\n",
    "plt.title('TransE loss')\n",
    "plt.xlabel('Iterations')\n",
    "plt.ylabel('Loss')\n",
    "plt.show()\n",
    "\n",
    "plt.plot(range(len(conv_kb_loss)),conv_kb_loss)\n",
    "plt.title('ConvKB loss')\n",
    "plt.xlabel('Iterations')\n",
    "plt.ylabel('Loss')\n",
    "plt.show()"
   ]
  },
  {
   "cell_type": "code",
   "execution_count": 5,
   "metadata": {},
   "outputs": [],
   "source": [
    "NUMBER_NEIGHBORS = 15"
   ]
  },
  {
   "cell_type": "code",
   "execution_count": 6,
   "metadata": {},
   "outputs": [],
   "source": [
    "\n",
    "if torch.cuda.is_available():\n",
    "    net = torch.load(\"./data/GENE/ConvKB.pkl\")\n",
    "else:\n",
    "    net = torch.load(\"./data/GENE/ConvKB.pkl\", map_location=lambda storage, loc: storage)\n",
    "net = list(net.items())\n",
    "# 1: entity\n",
    "# 2: relation\n",
    "data_train = net[0][1].cpu().numpy()\n",
    "\n",
    "if os.path.exists(\"./data/GENE/kNN.pkl\"):\n",
    "    with open(\"./data/GENE/kNN.pkl\", \"rb\") as f:\n",
    "        nbrs = pickle.load(f)\n",
    "        f.close()\n",
    "    with open(\"./data/GENE/indices.pkl\", \"rb\") as f:\n",
    "        indices = pickle.load(f)\n",
    "        f.close()\n",
    "    with open(\"./data/GENE/distance.pkl\", \"rb\") as f:\n",
    "        distances = pickle.load(f)\n",
    "        f.close()\n",
    "else:\n",
    "    nbrs = NearestNeighbors(n_neighbors=NUMBER_NEIGHBORS, algorithm='ball_tree').fit(data_train)\n",
    "    distances, indices = nbrs.kneighbors(data_train)\n",
    "    with open(\"./data/GENE/kNN.pkl\", \"wb\") as f:\n",
    "        pickle.dump(nbrs,f)\n",
    "        f.close()\n",
    "    with open(\"./data/GENE/indices.pkl\", \"wb\") as f:\n",
    "        pickle.dump(indices, f)\n",
    "        f.close()\n",
    "    with open(\"./data/GENE/distance.pkl\", \"wb\") as f:\n",
    "        pickle.dump(distances, f)\n",
    "        f.close()"
   ]
  },
  {
   "cell_type": "code",
   "execution_count": 7,
   "metadata": {},
   "outputs": [],
   "source": [
    "#Load data to show attributes of gene\n",
    "with open(\"./support/uniprot.pkl\",\"rb\") as f:\n",
    "    uniprot = pickle.load(f)\n",
    "    f.close()\n",
    "with open(\"./support/prin.pkl\",\"rb\") as f:\n",
    "    prin = pickle.load(f)\n",
    "    f.close()\n",
    "with open(\"./support/pyrice.pkl\",\"rb\") as f:\n",
    "    pyrice = pickle.load(f)\n",
    "    f.close()\n",
    "with open(\"./support/id_dict_2018\", \"rb\") as f:\n",
    "    id_dict_2018 = pickle.load(f)\n",
    "    f.close()\n",
    "with open(\"./support/loc_dict_2018\", \"rb\") as f:\n",
    "    loc_dict_2018 = pickle.load(f)\n",
    "    f.close()\n",
    "processed_entity_2_id = load_data(\"./data/GENE/entity2id.txt\", ignore_first=True)\n",
    "relation_2_id = load_data(\"./data/GENE/relation2id.txt\", ignore_first=True)\n",
    "processed_id_2_entity = dict()\n",
    "i = 0\n",
    "with open(\"./data/GENE/entity2id.txt\", 'r') as f:\n",
    "    for line in f:\n",
    "        if True and i == 0:\n",
    "            i += 1\n",
    "            continue\n",
    "        line = line.strip()\n",
    "        if line == '':\n",
    "            continue\n",
    "        parts = line.split(\"\\t\")\n",
    "        processed_id_2_entity[int(parts[1])] = parts[0]"
   ]
  },
  {
   "cell_type": "code",
   "execution_count": 8,
   "metadata": {
    "scrolled": false
   },
   "outputs": [
    {
     "name": "stdout",
     "output_type": "stream",
     "text": [
      "\n",
      "Type genename: Os03g0805400\n",
      "Os03g0805400\n",
      "Gene UniProt: {'Protein': set(), 'GO': {'GO:0009737', 'GO:0005789', 'GO:0090332', 'GO:0016021', 'GO:0006665'}, 'Keyword': {'KW-1133', 'KW-0812', 'KW-1185', 'KW-0472', 'KW-0181'}}\n",
      "Gene Prin: {'Description': 'phosphatase, putative, expressed', 'Location': 'Nucleus'}\n",
      "Gene PyRice: {'GO': {'GO:0005789', 'GO:0009737', 'GO:0090332', 'GO:0016021', 'GO:0006665'}, 'Position': {'chr03'}, 'CGSNL Gene Name': set(), 'Trait Class': set(), 'TO': set(), 'PO': set(), 'Keyword': set(), 'Name': set()}\n",
      "\n",
      "Top 5 relation: \n",
      "Os02g0701900\n",
      "Gene UniProt: {'Protein': set(), 'GO': {'GO:0005789', 'GO:0030148', 'GO:0005783', 'GO:0006666', 'GO:0047560'}, 'Keyword': {'KW-0732', 'KW-0181', 'KW-1185'}}\n",
      "Gene Prin: {'Description': 'oxidoreductase, short chain dehydrogenase/reductase family, putative, expressed', 'Location': 'Mitochondria'}\n",
      "Gene PyRice:{'GO': {'GO:0016491'}, 'Position': {'chr02'}, 'CGSNL Gene Name': set(), 'Trait Class': set(), 'TO': set(), 'PO': set(), 'Keyword': set(), 'Name': set()}\n",
      "\n",
      "Os03g0701500\n",
      "Gene UniProt: {'Protein': set(), 'GO': {'GO:0034625', 'GO:0034626', 'GO:0030148', 'GO:0042761', 'GO:0030176', 'GO:0009922', 'GO:0019367'}, 'Keyword': {'KW-1133', 'KW-0812', 'KW-1185', 'KW-0472', 'KW-0181'}}\n",
      "Gene Prin: {'Description': 'elongation of fatty acids protein 2, putative, expressed', 'Location': 'Mitochondria'}\n",
      "Gene PyRice:{'GO': {'GO:0034625', 'GO:0034626', 'GO:0030148', 'GO:0042761', 'GO:0030176', 'GO:0009922', 'GO:0019367'}, 'Position': {'chr03'}, 'CGSNL Gene Name': set(), 'Trait Class': set(), 'TO': set(), 'PO': set(), 'Keyword': set(), 'Name': set()}\n",
      "\n",
      "Os01g0169500\n",
      "Gene UniProt: {'Protein': set(), 'GO': {'GO:0006723', 'GO:0009793', 'GO:0043447'}, 'Keyword': {'KW-0181', 'KW-1185'}}\n",
      "Gene PyRice:{'GO': {'GO:0009793', 'GO:0006723', 'GO:0005488', 'GO:0043447'}, 'Position': {'chr01'}, 'CGSNL Gene Name': set(), 'Trait Class': set(), 'TO': set(), 'PO': set(), 'Keyword': set(), 'Name': set()}\n",
      "\n",
      "Os01g0139000\n",
      "Gene UniProt: {'Protein': {'Reticulon-like protein'}, 'GO': {'GO:0016021', 'GO:0005789'}, 'Keyword': {'KW-1133', 'KW-0812', 'KW-0256', 'KW-1185', 'KW-0472', 'KW-0181'}}\n",
      "Gene PyRice:{'GO': {'GO:0016021', 'GO:0005789'}, 'Position': {'chr01'}, 'CGSNL Gene Name': set(), 'Trait Class': set(), 'TO': set(), 'PO': set(), 'Keyword': set(), 'Name': set()}\n",
      "\n",
      "Os06g0503400\n",
      "Gene UniProt: {'Protein': {'Reticulon-like protein'}, 'GO': {'GO:0016021', 'GO:0005789'}, 'Keyword': {'KW-1133', 'KW-0812', 'KW-0256', 'KW-1185', 'KW-0472', 'KW-0181'}}\n",
      "Gene PyRice:{'GO': {'GO:0005789', 'GO:0016021', 'GO:0003676'}, 'Position': {'chr06'}, 'CGSNL Gene Name': set(), 'Trait Class': set(), 'TO': set(), 'PO': set(), 'Keyword': set(), 'Name': set()}\n",
      "\n",
      "\n",
      "Type genename: \n"
     ]
    }
   ],
   "source": [
    "#TEST KNN with gene\n",
    "while True:\n",
    "    gene_name = input(\"\\nType genename: \").strip()\n",
    "    if gene_name == \"\":\n",
    "        break\n",
    "    if gene_name not in processed_entity_2_id.keys():\n",
    "        print(\"Gene not found\")\n",
    "        continue\n",
    "    if gene_name in processed_entity_2_id.keys():\n",
    "        print(gene_name)\n",
    "        if gene_name in uniprot.keys():\n",
    "            print(\"Gene UniProt: {}\".format(uniprot[gene_name]))\n",
    "        if gene_name in prin.keys():\n",
    "            print(\"Gene Prin: {}\".format(prin[gene_name]))\n",
    "        if gene_name in pyrice.keys():\n",
    "            print(\"Gene PyRice: {}\\n\".format(pyrice[gene_name]))\n",
    "    else:\n",
    "        print(\"Att {}\\n\".format(gene_name))\n",
    "    print(\"Top 5 relation: \")\n",
    "    count = 0\n",
    "    for index in indices[processed_entity_2_id[gene_name]][1:]:\n",
    "        similar_gene = processed_id_2_entity[index]\n",
    "        if similar_gene in id_dict_2018.keys():\n",
    "            print(similar_gene)\n",
    "            if similar_gene in uniprot.keys():\n",
    "                print(\"Gene UniProt: {}\".format(uniprot[similar_gene]))\n",
    "            if similar_gene in prin.keys():\n",
    "                print(\"Gene Prin: {}\".format(prin[similar_gene]))\n",
    "            if similar_gene in pyrice.keys():\n",
    "                print(\"Gene PyRice:{}\\n\".format(pyrice[similar_gene]))\n",
    "            \n",
    "            count+=1\n",
    "            if count == 5: \n",
    "                break\n",
    "                print(\"----------------------------------------------------\")\n",
    "        else:\n",
    "            print(\"Att {}\\n\".format(similar_gene))\n",
    "            count += 1\n",
    "            if count == 5: break  "
   ]
  },
  {
   "cell_type": "code",
   "execution_count": null,
   "metadata": {},
   "outputs": [],
   "source": []
  }
 ],
 "metadata": {
  "kernelspec": {
   "display_name": "Python 3",
   "language": "python",
   "name": "python3"
  },
  "language_info": {
   "codemirror_mode": {
    "name": "ipython",
    "version": 3
   },
   "file_extension": ".py",
   "mimetype": "text/x-python",
   "name": "python",
   "nbconvert_exporter": "python",
   "pygments_lexer": "ipython3",
   "version": "3.6.7"
  }
 },
 "nbformat": 4,
 "nbformat_minor": 2
}
